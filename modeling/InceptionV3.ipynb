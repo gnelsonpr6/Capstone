{
 "cells": [
  {
   "cell_type": "code",
   "execution_count": 1,
   "id": "skilled-massage",
   "metadata": {},
   "outputs": [],
   "source": [
    "import numpy as np\n",
    "import pandas as pd\n",
    "import scipy.io\n",
    "import os\n",
    "from PIL import Image\n",
    "import matplotlib.pyplot as plt\n",
    "import efficientnet.tfkeras as efn\n",
    "from sklearn.metrics import confusion_matrix, plot_confusion_matrix\n",
    "\n",
    "import tensorflow as tf\n",
    "from tensorflow.keras.preprocessing.image import ImageDataGenerator\n",
    "from tensorflow.keras.models import Sequential\n",
    "from tensorflow.keras.layers import Dense, Dropout, Flatten, Conv2D, MaxPooling2D\n",
    "from tensorflow.keras import utils\n",
    "from tensorflow.keras.applications import ResNet50V2, InceptionV3"
   ]
  },
  {
   "cell_type": "markdown",
   "id": "alpine-oklahoma",
   "metadata": {},
   "source": [
    "### Loading in presetup files downloaded from https://ai.stanford.edu/~jkrause/cars/car_dataset.html"
   ]
  },
  {
   "cell_type": "code",
   "execution_count": 2,
   "id": "celtic-aberdeen",
   "metadata": {},
   "outputs": [],
   "source": [
    "meta = scipy.io.loadmat('devkit/cars_meta.mat')\n",
    "train = scipy.io.loadmat('devkit/cars_train_annos.mat')\n",
    "test = scipy.io.loadmat('devkit/cars_test_annos_withlabels.mat')"
   ]
  },
  {
   "cell_type": "code",
   "execution_count": 3,
   "id": "electoral-visit",
   "metadata": {},
   "outputs": [],
   "source": [
    "classes = pd.DataFrame(meta['class_names'][0], columns=['title'])\n",
    "\n",
    "classes['title']\n",
    "classes_list = []\n",
    "for value in classes['title']:\n",
    "    value = value[0]\n",
    "    classes_list.append(value)\n",
    "    \n",
    "classes['title'] = classes_list"
   ]
  },
  {
   "cell_type": "code",
   "execution_count": 4,
   "id": "contrary-alias",
   "metadata": {},
   "outputs": [
    {
     "data": {
      "text/plain": [
       "0    AM General Hummer SUV 2000\n",
       "1           Acura RL Sedan 2012\n",
       "2           Acura TL Sedan 2012\n",
       "3          Acura TL Type-S 2008\n",
       "4          Acura TSX Sedan 2012\n",
       "Name: title, dtype: object"
      ]
     },
     "execution_count": 4,
     "metadata": {},
     "output_type": "execute_result"
    }
   ],
   "source": [
    "classes['title'].head()"
   ]
  },
  {
   "cell_type": "markdown",
   "id": "former-innocent",
   "metadata": {},
   "source": [
    "### Creating a function to get the image bounds, labels, and file names for both training and testing sets"
   ]
  },
  {
   "cell_type": "code",
   "execution_count": 5,
   "id": "characteristic-visit",
   "metadata": {},
   "outputs": [],
   "source": [
    "def get_bounds_and_labels(dataset):\n",
    "    dataset_file_name_list = []\n",
    "    dataset_image_bounds = []\n",
    "    dataset_label_name_list = []\n",
    "\n",
    "    for i in range(dataset['annotations'].shape[1]):\n",
    "        dataset_file_name_list.append(dataset['annotations'][:,i][0][5][0])\n",
    "        dataset_label_name_list.append(dataset['annotations'][:,i][0][4][0][0]) \n",
    "        \n",
    "        bounds_list = []\n",
    "        for j in range(4):\n",
    "            bounds_list.append(dataset['annotations'][:,i][0][j][0][0])\n",
    "        dataset_image_bounds.append(bounds_list)\n",
    "        #returns 3 variables to be unpacked \n",
    "    return dataset_file_name_list, dataset_label_name_list, dataset_image_bounds"
   ]
  },
  {
   "cell_type": "markdown",
   "id": "japanese-resort",
   "metadata": {},
   "source": [
    "### Running function on both training and testing data "
   ]
  },
  {
   "cell_type": "code",
   "execution_count": 6,
   "id": "fifteen-forth",
   "metadata": {},
   "outputs": [],
   "source": [
    "test_files, test_labels, test_bounds = get_bounds_and_labels(test)\n",
    "train_files, train_labels, train_bounds = get_bounds_and_labels(train)"
   ]
  },
  {
   "cell_type": "markdown",
   "id": "other-sperm",
   "metadata": {},
   "source": [
    "### Displaying partial output for training set variables"
   ]
  },
  {
   "cell_type": "code",
   "execution_count": 7,
   "id": "manufactured-platform",
   "metadata": {},
   "outputs": [
    {
     "data": {
      "text/plain": [
       "['00001.jpg', '00002.jpg', '00003.jpg', '00004.jpg', '00005.jpg']"
      ]
     },
     "execution_count": 7,
     "metadata": {},
     "output_type": "execute_result"
    }
   ],
   "source": [
    "train_files[:5]"
   ]
  },
  {
   "cell_type": "code",
   "execution_count": 8,
   "id": "macro-pantyhose",
   "metadata": {},
   "outputs": [
    {
     "data": {
      "text/plain": [
       "[14, 3, 91, 134, 106]"
      ]
     },
     "execution_count": 8,
     "metadata": {},
     "output_type": "execute_result"
    }
   ],
   "source": [
    "train_labels[:5]"
   ]
  },
  {
   "cell_type": "code",
   "execution_count": 9,
   "id": "bright-advantage",
   "metadata": {},
   "outputs": [
    {
     "data": {
      "text/plain": [
       "[[39, 116, 569, 375],\n",
       " [36, 116, 868, 587],\n",
       " [85, 109, 601, 381],\n",
       " [621, 393, 1484, 1096],\n",
       " [14, 36, 133, 99]]"
      ]
     },
     "execution_count": 9,
     "metadata": {},
     "output_type": "execute_result"
    }
   ],
   "source": [
    "train_bounds[:5]"
   ]
  },
  {
   "cell_type": "markdown",
   "id": "naked-click",
   "metadata": {},
   "source": [
    "### Displaying partial output for testing set variables"
   ]
  },
  {
   "cell_type": "code",
   "execution_count": 10,
   "id": "unique-cream",
   "metadata": {},
   "outputs": [
    {
     "data": {
      "text/plain": [
       "['00001.jpg', '00002.jpg', '00003.jpg', '00004.jpg', '00005.jpg']"
      ]
     },
     "execution_count": 10,
     "metadata": {},
     "output_type": "execute_result"
    }
   ],
   "source": [
    "test_files[:5]"
   ]
  },
  {
   "cell_type": "code",
   "execution_count": 11,
   "id": "fluid-tradition",
   "metadata": {},
   "outputs": [
    {
     "data": {
      "text/plain": [
       "[181, 103, 145, 187, 185]"
      ]
     },
     "execution_count": 11,
     "metadata": {},
     "output_type": "execute_result"
    }
   ],
   "source": [
    "test_labels[:5]"
   ]
  },
  {
   "cell_type": "code",
   "execution_count": 12,
   "id": "signal-oakland",
   "metadata": {},
   "outputs": [
    {
     "data": {
      "text/plain": [
       "[[30, 52, 246, 147],\n",
       " [100, 19, 576, 203],\n",
       " [51, 105, 968, 659],\n",
       " [67, 84, 581, 407],\n",
       " [140, 151, 593, 339]]"
      ]
     },
     "execution_count": 12,
     "metadata": {},
     "output_type": "execute_result"
    }
   ],
   "source": [
    "test_bounds[:5]"
   ]
  },
  {
   "cell_type": "markdown",
   "id": "wired-welding",
   "metadata": {},
   "source": [
    "### Creating function to set up dataframe for Image Data Generator"
   ]
  },
  {
   "cell_type": "code",
   "execution_count": 13,
   "id": "handy-shame",
   "metadata": {},
   "outputs": [],
   "source": [
    "def create_file_dataframe():\n",
    "    \n",
    "    #creating list of file names from directory\n",
    "    train_list_files = []\n",
    "    for file in os.listdir('cars_train/'):\n",
    "        train_list_files.append(file)\n",
    "    \n",
    "    #creating dataframe\n",
    "    df = pd.DataFrame(train_list_files, columns=['files'])\n",
    "    \n",
    "    new_labels = train_labels + test_labels\n",
    "\n",
    "    df['label'] = new_labels\n",
    "    df['label'] = df['label'].apply(lambda x: str(x).split(' '))\n",
    "    \n",
    "    return df"
   ]
  },
  {
   "cell_type": "code",
   "execution_count": 14,
   "id": "liberal-footwear",
   "metadata": {},
   "outputs": [
    {
     "data": {
      "text/html": [
       "<div>\n",
       "<style scoped>\n",
       "    .dataframe tbody tr th:only-of-type {\n",
       "        vertical-align: middle;\n",
       "    }\n",
       "\n",
       "    .dataframe tbody tr th {\n",
       "        vertical-align: top;\n",
       "    }\n",
       "\n",
       "    .dataframe thead th {\n",
       "        text-align: right;\n",
       "    }\n",
       "</style>\n",
       "<table border=\"1\" class=\"dataframe\">\n",
       "  <thead>\n",
       "    <tr style=\"text-align: right;\">\n",
       "      <th></th>\n",
       "      <th>files</th>\n",
       "      <th>label</th>\n",
       "    </tr>\n",
       "  </thead>\n",
       "  <tbody>\n",
       "    <tr>\n",
       "      <th>0</th>\n",
       "      <td>00001.jpg</td>\n",
       "      <td>[14]</td>\n",
       "    </tr>\n",
       "    <tr>\n",
       "      <th>1</th>\n",
       "      <td>00002.jpg</td>\n",
       "      <td>[3]</td>\n",
       "    </tr>\n",
       "    <tr>\n",
       "      <th>2</th>\n",
       "      <td>00003.jpg</td>\n",
       "      <td>[91]</td>\n",
       "    </tr>\n",
       "    <tr>\n",
       "      <th>3</th>\n",
       "      <td>00004.jpg</td>\n",
       "      <td>[134]</td>\n",
       "    </tr>\n",
       "    <tr>\n",
       "      <th>4</th>\n",
       "      <td>00005.jpg</td>\n",
       "      <td>[106]</td>\n",
       "    </tr>\n",
       "    <tr>\n",
       "      <th>...</th>\n",
       "      <td>...</td>\n",
       "      <td>...</td>\n",
       "    </tr>\n",
       "    <tr>\n",
       "      <th>16180</th>\n",
       "      <td>test_08037.jpg</td>\n",
       "      <td>[63]</td>\n",
       "    </tr>\n",
       "    <tr>\n",
       "      <th>16181</th>\n",
       "      <td>test_08038.jpg</td>\n",
       "      <td>[16]</td>\n",
       "    </tr>\n",
       "    <tr>\n",
       "      <th>16182</th>\n",
       "      <td>test_08039.jpg</td>\n",
       "      <td>[17]</td>\n",
       "    </tr>\n",
       "    <tr>\n",
       "      <th>16183</th>\n",
       "      <td>test_08040.jpg</td>\n",
       "      <td>[38]</td>\n",
       "    </tr>\n",
       "    <tr>\n",
       "      <th>16184</th>\n",
       "      <td>test_08041.jpg</td>\n",
       "      <td>[32]</td>\n",
       "    </tr>\n",
       "  </tbody>\n",
       "</table>\n",
       "<p>16185 rows × 2 columns</p>\n",
       "</div>"
      ],
      "text/plain": [
       "                files  label\n",
       "0           00001.jpg   [14]\n",
       "1           00002.jpg    [3]\n",
       "2           00003.jpg   [91]\n",
       "3           00004.jpg  [134]\n",
       "4           00005.jpg  [106]\n",
       "...               ...    ...\n",
       "16180  test_08037.jpg   [63]\n",
       "16181  test_08038.jpg   [16]\n",
       "16182  test_08039.jpg   [17]\n",
       "16183  test_08040.jpg   [38]\n",
       "16184  test_08041.jpg   [32]\n",
       "\n",
       "[16185 rows x 2 columns]"
      ]
     },
     "execution_count": 14,
     "metadata": {},
     "output_type": "execute_result"
    }
   ],
   "source": [
    "df = create_file_dataframe()\n",
    "df"
   ]
  },
  {
   "cell_type": "markdown",
   "id": "consolidated-dating",
   "metadata": {},
   "source": [
    "### Using TensorFlow's Image Data Generator to create matrices interpretable by the neural network"
   ]
  },
  {
   "cell_type": "code",
   "execution_count": 15,
   "id": "biological-witness",
   "metadata": {},
   "outputs": [],
   "source": [
    "train_data_generator = ImageDataGenerator(rescale=1./255., validation_split=.1)\n",
    "test_data_generator = ImageDataGenerator(rescale=1./255.)"
   ]
  },
  {
   "cell_type": "code",
   "execution_count": 16,
   "id": "brown-disclaimer",
   "metadata": {},
   "outputs": [
    {
     "name": "stdout",
     "output_type": "stream",
     "text": [
      "Found 14567 validated image filenames belonging to 196 classes.\n",
      "Found 1618 validated image filenames belonging to 196 classes.\n"
     ]
    }
   ],
   "source": [
    "training = train_data_generator.flow_from_dataframe(\n",
    "    dataframe=df,\n",
    "    directory='cars_train/',\n",
    "    x_col='files',\n",
    "    y_col='label',\n",
    "    subset=\"training\",\n",
    "    seed=42,\n",
    "    shuffle=True,\n",
    "    rotation_range=180,\n",
    "    width_shift_range=0.3,\n",
    "    height_shift_range=0.3,\n",
    "    shear_range=0.3,\n",
    "    zoom_range=0.3,\n",
    "    horizontal_flip=True,\n",
    "    target_size=(150, 150),\n",
    "    batch_size=64,\n",
    "    class_mode=\"categorical\")\n",
    "\n",
    "\n",
    "validation = train_data_generator.flow_from_dataframe(\n",
    "    dataframe=df,\n",
    "    directory='cars_train/',\n",
    "    x_col='files',\n",
    "    y_col='label',\n",
    "    subset=\"validation\",\n",
    "    seed=42,\n",
    "    shuffle=True,\n",
    "    target_size=(150, 150),\n",
    "    batch_size=64,\n",
    "    class_mode=\"categorical\")"
   ]
  },
  {
   "cell_type": "markdown",
   "id": "packed-marker",
   "metadata": {},
   "source": [
    "### Importing InceptionV3 Model and setting a portion of the layers to trainable"
   ]
  },
  {
   "cell_type": "code",
   "execution_count": 17,
   "id": "obvious-lawrence",
   "metadata": {},
   "outputs": [],
   "source": [
    "pre_trained = InceptionV3(weights='imagenet', include_top=False, \n",
    "                       input_shape=(150, 150, 3))"
   ]
  },
  {
   "cell_type": "code",
   "execution_count": 18,
   "id": "sound-humidity",
   "metadata": {},
   "outputs": [
    {
     "data": {
      "text/plain": [
       "311"
      ]
     },
     "execution_count": 18,
     "metadata": {},
     "output_type": "execute_result"
    }
   ],
   "source": [
    "len(pre_trained.layers)"
   ]
  },
  {
   "cell_type": "code",
   "execution_count": 19,
   "id": "corporate-structure",
   "metadata": {},
   "outputs": [],
   "source": [
    "for layer in pre_trained.layers[:20]:\n",
    "    layer.trainable = False\n",
    "    \n",
    "for layer in pre_trained.layers[20:]:\n",
    "    layer.trainable = True"
   ]
  },
  {
   "cell_type": "markdown",
   "id": "spread-protocol",
   "metadata": {},
   "source": [
    "### Creating the model topology, optimizer, and compiling the model"
   ]
  },
  {
   "cell_type": "code",
   "execution_count": 20,
   "id": "valued-aging",
   "metadata": {},
   "outputs": [],
   "source": [
    "model = Sequential()\n",
    "\n",
    "model.add(pre_trained)\n",
    "\n",
    "model.add(MaxPooling2D(pool_size=(2, 2)))\n",
    "\n",
    "model.add(Flatten())\n",
    "\n",
    "model.add(Dropout(.5))\n",
    "\n",
    "model.add(Dense(256, activation='relu'))\n",
    "\n",
    "model.add(Dense(196, activation='softmax'))\n",
    "\n",
    "optimizer = tf.keras.optimizers.Adam(learning_rate=.001)\n",
    "\n",
    "model.compile(loss='categorical_crossentropy', \n",
    "              optimizer=optimizer, metrics=['accuracy'])"
   ]
  },
  {
   "cell_type": "markdown",
   "id": "wicked-bedroom",
   "metadata": {},
   "source": [
    "### Displaying model layer summary"
   ]
  },
  {
   "cell_type": "code",
   "execution_count": 21,
   "id": "differential-bradley",
   "metadata": {},
   "outputs": [
    {
     "name": "stdout",
     "output_type": "stream",
     "text": [
      "Model: \"sequential\"\n",
      "_________________________________________________________________\n",
      "Layer (type)                 Output Shape              Param #   \n",
      "=================================================================\n",
      "inception_v3 (Model)         (None, 3, 3, 2048)        21802784  \n",
      "_________________________________________________________________\n",
      "max_pooling2d_4 (MaxPooling2 (None, 1, 1, 2048)        0         \n",
      "_________________________________________________________________\n",
      "flatten (Flatten)            (None, 2048)              0         \n",
      "_________________________________________________________________\n",
      "dropout (Dropout)            (None, 2048)              0         \n",
      "_________________________________________________________________\n",
      "dense (Dense)                (None, 256)               524544    \n",
      "_________________________________________________________________\n",
      "dense_1 (Dense)              (None, 196)               50372     \n",
      "=================================================================\n",
      "Total params: 22,377,700\n",
      "Trainable params: 22,158,644\n",
      "Non-trainable params: 219,056\n",
      "_________________________________________________________________\n"
     ]
    }
   ],
   "source": [
    "model.summary()"
   ]
  },
  {
   "cell_type": "markdown",
   "id": "sized-designer",
   "metadata": {},
   "source": [
    "### Fitting the model, validating using validation split created above"
   ]
  },
  {
   "cell_type": "code",
   "execution_count": 22,
   "id": "patent-diana",
   "metadata": {},
   "outputs": [
    {
     "name": "stdout",
     "output_type": "stream",
     "text": [
      "WARNING:tensorflow:sample_weight modes were coerced from\n",
      "  ...\n",
      "    to  \n",
      "  ['...']\n",
      "WARNING:tensorflow:sample_weight modes were coerced from\n",
      "  ...\n",
      "    to  \n",
      "  ['...']\n",
      "Train for 228 steps, validate for 26 steps\n",
      "Epoch 1/50\n",
      "228/228 [==============================] - 57s 251ms/step - loss: 5.3079 - accuracy: 0.0058 - val_loss: 5.2967 - val_accuracy: 0.0037\n",
      "Epoch 2/50\n",
      "228/228 [==============================] - 40s 175ms/step - loss: 5.1332 - accuracy: 0.0103 - val_loss: 8077.2516 - val_accuracy: 0.0025\n",
      "Epoch 3/50\n",
      "228/228 [==============================] - 40s 176ms/step - loss: 4.6328 - accuracy: 0.0231 - val_loss: 7.2202 - val_accuracy: 0.0235\n",
      "Epoch 4/50\n",
      "228/228 [==============================] - 40s 176ms/step - loss: 3.9833 - accuracy: 0.0605 - val_loss: 4.1549 - val_accuracy: 0.0723\n",
      "Epoch 5/50\n",
      "228/228 [==============================] - 40s 176ms/step - loss: 3.2787 - accuracy: 0.1406 - val_loss: 3.7877 - val_accuracy: 0.1075\n",
      "Epoch 6/50\n",
      "228/228 [==============================] - 40s 176ms/step - loss: 2.5126 - accuracy: 0.2784 - val_loss: 3.1568 - val_accuracy: 0.2182\n",
      "Epoch 7/50\n",
      "228/228 [==============================] - 40s 176ms/step - loss: 1.8934 - accuracy: 0.4217 - val_loss: 3.4947 - val_accuracy: 0.2892\n",
      "Epoch 8/50\n",
      "228/228 [==============================] - 40s 176ms/step - loss: 1.4033 - accuracy: 0.5533 - val_loss: 3.0976 - val_accuracy: 0.3325\n",
      "Epoch 9/50\n",
      "228/228 [==============================] - 40s 176ms/step - loss: 1.0329 - accuracy: 0.6581 - val_loss: 1.9547 - val_accuracy: 0.4839\n",
      "Epoch 10/50\n",
      "228/228 [==============================] - 40s 176ms/step - loss: 0.7933 - accuracy: 0.7371 - val_loss: 3.6645 - val_accuracy: 0.3047\n",
      "Epoch 11/50\n",
      "228/228 [==============================] - 40s 176ms/step - loss: 0.6476 - accuracy: 0.7783 - val_loss: 2.7521 - val_accuracy: 0.4147\n",
      "Epoch 12/50\n",
      "228/228 [==============================] - 40s 176ms/step - loss: 0.4960 - accuracy: 0.8297 - val_loss: 3.1888 - val_accuracy: 0.3850\n",
      "Epoch 13/50\n",
      "228/228 [==============================] - 40s 176ms/step - loss: 0.4285 - accuracy: 0.8552 - val_loss: 1.8901 - val_accuracy: 0.5532\n",
      "Epoch 14/50\n",
      "228/228 [==============================] - 40s 175ms/step - loss: 0.3923 - accuracy: 0.8644 - val_loss: 6.2636 - val_accuracy: 0.3146\n",
      "Epoch 15/50\n",
      "228/228 [==============================] - 40s 176ms/step - loss: 0.3977 - accuracy: 0.8720 - val_loss: 1.9768 - val_accuracy: 0.5550\n",
      "Epoch 16/50\n",
      "228/228 [==============================] - 40s 175ms/step - loss: 0.2603 - accuracy: 0.9125 - val_loss: 1.8778 - val_accuracy: 0.6026\n",
      "Epoch 17/50\n",
      "228/228 [==============================] - 40s 176ms/step - loss: 0.2315 - accuracy: 0.9231 - val_loss: 2.4414 - val_accuracy: 0.5328\n",
      "Epoch 18/50\n",
      "228/228 [==============================] - 40s 176ms/step - loss: 0.2245 - accuracy: 0.9235 - val_loss: 2.0749 - val_accuracy: 0.5680\n",
      "Epoch 19/50\n",
      "228/228 [==============================] - 40s 175ms/step - loss: 0.2324 - accuracy: 0.9224 - val_loss: 2.5314 - val_accuracy: 0.5371\n",
      "Epoch 20/50\n",
      "228/228 [==============================] - 40s 176ms/step - loss: 0.2032 - accuracy: 0.9331 - val_loss: 2.0367 - val_accuracy: 0.5909\n",
      "Epoch 21/50\n",
      "228/228 [==============================] - 40s 176ms/step - loss: 0.1909 - accuracy: 0.9384 - val_loss: 2.1146 - val_accuracy: 0.5630\n",
      "Epoch 22/50\n",
      "228/228 [==============================] - 40s 176ms/step - loss: 0.1600 - accuracy: 0.9494 - val_loss: 2.6689 - val_accuracy: 0.5408\n",
      "Epoch 23/50\n",
      "228/228 [==============================] - 40s 176ms/step - loss: 0.1581 - accuracy: 0.9491 - val_loss: 2.1453 - val_accuracy: 0.5946\n",
      "Epoch 24/50\n",
      "228/228 [==============================] - 40s 176ms/step - loss: 0.1446 - accuracy: 0.9537 - val_loss: 2.3709 - val_accuracy: 0.5637\n",
      "Epoch 25/50\n",
      "228/228 [==============================] - 40s 175ms/step - loss: 0.1514 - accuracy: 0.9505 - val_loss: 3.1674 - val_accuracy: 0.5012\n",
      "Epoch 26/50\n",
      "228/228 [==============================] - 40s 176ms/step - loss: 0.1401 - accuracy: 0.9533 - val_loss: 2.1235 - val_accuracy: 0.6137\n",
      "Epoch 27/50\n",
      "228/228 [==============================] - 40s 175ms/step - loss: 0.1251 - accuracy: 0.9607 - val_loss: 2.0437 - val_accuracy: 0.6230\n",
      "Epoch 28/50\n",
      "228/228 [==============================] - 40s 176ms/step - loss: 0.1358 - accuracy: 0.9570 - val_loss: 2.1877 - val_accuracy: 0.5933\n",
      "Epoch 29/50\n",
      "228/228 [==============================] - 40s 175ms/step - loss: 0.1535 - accuracy: 0.9508 - val_loss: 2.1811 - val_accuracy: 0.6131\n",
      "Epoch 30/50\n",
      "228/228 [==============================] - 40s 176ms/step - loss: 0.1170 - accuracy: 0.9609 - val_loss: 2.0990 - val_accuracy: 0.6329\n",
      "Epoch 31/50\n",
      "228/228 [==============================] - 40s 175ms/step - loss: 0.1171 - accuracy: 0.9618 - val_loss: 3.3581 - val_accuracy: 0.4821\n",
      "Epoch 32/50\n",
      "228/228 [==============================] - 40s 175ms/step - loss: 0.1463 - accuracy: 0.9528 - val_loss: 2.0130 - val_accuracy: 0.6255\n",
      "Epoch 33/50\n",
      "228/228 [==============================] - 40s 176ms/step - loss: 0.1235 - accuracy: 0.9608 - val_loss: 2.4426 - val_accuracy: 0.5878\n",
      "Epoch 34/50\n",
      "228/228 [==============================] - 40s 175ms/step - loss: 0.1262 - accuracy: 0.9590 - val_loss: 2.3217 - val_accuracy: 0.6100\n",
      "Epoch 35/50\n",
      "228/228 [==============================] - 40s 175ms/step - loss: 0.1044 - accuracy: 0.9671 - val_loss: 1.8751 - val_accuracy: 0.6545\n",
      "Epoch 36/50\n",
      "228/228 [==============================] - 40s 175ms/step - loss: 0.1069 - accuracy: 0.9685 - val_loss: 2.6186 - val_accuracy: 0.5921\n",
      "Epoch 37/50\n",
      "228/228 [==============================] - 40s 175ms/step - loss: 0.0967 - accuracy: 0.9705 - val_loss: 2.2014 - val_accuracy: 0.6131\n",
      "Epoch 38/50\n",
      "228/228 [==============================] - 40s 175ms/step - loss: 0.0907 - accuracy: 0.9738 - val_loss: 2.4739 - val_accuracy: 0.5859\n",
      "Epoch 39/50\n",
      "228/228 [==============================] - 40s 175ms/step - loss: 0.0582 - accuracy: 0.9815 - val_loss: 2.5007 - val_accuracy: 0.5890\n",
      "Epoch 40/50\n",
      "228/228 [==============================] - 40s 175ms/step - loss: 0.0886 - accuracy: 0.9726 - val_loss: 2.9205 - val_accuracy: 0.5779\n",
      "Epoch 41/50\n",
      "228/228 [==============================] - 40s 175ms/step - loss: 0.1133 - accuracy: 0.9649 - val_loss: 2.2805 - val_accuracy: 0.6112\n",
      "Epoch 42/50\n",
      "228/228 [==============================] - 40s 175ms/step - loss: 0.0922 - accuracy: 0.9710 - val_loss: 3.2703 - val_accuracy: 0.5167\n",
      "Epoch 43/50\n",
      "228/228 [==============================] - 40s 175ms/step - loss: 0.0968 - accuracy: 0.9701 - val_loss: 2.4096 - val_accuracy: 0.6063\n",
      "Epoch 44/50\n",
      "228/228 [==============================] - 40s 175ms/step - loss: 0.0918 - accuracy: 0.9713 - val_loss: 2.2301 - val_accuracy: 0.6044\n",
      "Epoch 45/50\n",
      "228/228 [==============================] - 40s 175ms/step - loss: 0.0967 - accuracy: 0.9716 - val_loss: 2.2332 - val_accuracy: 0.6354\n",
      "Epoch 46/50\n",
      "228/228 [==============================] - 40s 175ms/step - loss: 0.0668 - accuracy: 0.9803 - val_loss: 2.3812 - val_accuracy: 0.6279\n",
      "Epoch 47/50\n",
      "228/228 [==============================] - 40s 175ms/step - loss: 0.0731 - accuracy: 0.9791 - val_loss: 2.1889 - val_accuracy: 0.6211\n",
      "Epoch 48/50\n",
      "228/228 [==============================] - 40s 175ms/step - loss: 0.0675 - accuracy: 0.9799 - val_loss: 2.4491 - val_accuracy: 0.6063\n",
      "Epoch 49/50\n",
      "228/228 [==============================] - 40s 175ms/step - loss: 0.0774 - accuracy: 0.9759 - val_loss: 3.1656 - val_accuracy: 0.5494\n",
      "Epoch 50/50\n",
      "228/228 [==============================] - 40s 175ms/step - loss: 0.0870 - accuracy: 0.9731 - val_loss: 2.8294 - val_accuracy: 0.5909\n"
     ]
    }
   ],
   "source": [
    "history = model.fit(training, validation_data=validation, epochs=50, verbose=1, callbacks=[tf.keras.callbacks.TensorBoard(log_dir='logs', histogram_freq=1)])"
   ]
  },
  {
   "cell_type": "markdown",
   "id": "alike-rings",
   "metadata": {},
   "source": [
    "### Plotting accuracy over number of epochs"
   ]
  },
  {
   "cell_type": "code",
   "execution_count": 26,
   "id": "right-emphasis",
   "metadata": {},
   "outputs": [
    {
     "data": {
      "image/png": "[encoded data removed]",
      "text/plain": [
       "<Figure size 432x288 with 1 Axes>"
      ]
     },
     "metadata": {
      "needs_background": "light"
     },
     "output_type": "display_data"
    }
   ],
   "source": [
    "plt.plot(history.history['accuracy'], label='Train accuracy')\n",
    "plt.plot(history.history['val_accuracy'], label='Test accuracy')\n",
    "plt.xlabel('Epochs')\n",
    "plt.ylabel('Accuracy')\n",
    "plt.title('Accuracy over number of Epochs')\n",
    "plt.legend();"
   ]
  },
  {
   "cell_type": "code",
   "execution_count": 27,
   "id": "growing-detroit",
   "metadata": {},
   "outputs": [
    {
     "data": {
      "image/png": "[encoded data removed]",
      "text/plain": [
       "<Figure size 432x288 with 1 Axes>"
      ]
     },
     "metadata": {
      "needs_background": "light"
     },
     "output_type": "display_data"
    }
   ],
   "source": [
    "plt.plot(history.history['loss'], label='Train loss')\n",
    "plt.plot(history.history['val_loss'], label='Test loss')\n",
    "plt.xlabel('Epochs')\n",
    "plt.ylabel('Loss')\n",
    "plt.title('Loss over number of Epochs')\n",
    "plt.legend();"
   ]
  },
  {
   "cell_type": "code",
   "execution_count": null,
   "id": "saving-saskatchewan",
   "metadata": {},
   "outputs": [],
   "source": []
  }
 ],
 "metadata": {
  "kernelspec": {
   "display_name": "Python 3",
   "language": "python",
   "name": "python3"
  },
  "language_info": {
   "codemirror_mode": {
    "name": "ipython",
    "version": 3
   },
   "file_extension": ".py",
   "mimetype": "text/x-python",
   "name": "python",
   "nbconvert_exporter": "python",
   "pygments_lexer": "ipython3",
   "version": "3.7.10"
  }
 },
 "nbformat": 4,
 "nbformat_minor": 5
}
