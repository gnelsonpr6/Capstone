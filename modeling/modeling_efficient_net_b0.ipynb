{
 "cells": [
  {
   "cell_type": "code",
   "execution_count": 40,
   "metadata": {},
   "outputs": [],
   "source": [
    "import numpy as np\n",
    "import pandas as pd\n",
    "import scipy.io\n",
    "import os\n",
    "from PIL import Image\n",
    "import matplotlib.pyplot as plt\n",
    "\n",
    "from sklearn.metrics import plot_confusion_matrix, confusion_matrix\n",
    "\n",
    "import tensorflow as tf\n",
    "from tensorflow.keras.preprocessing.image import ImageDataGenerator, img_to_array\n",
    "from tensorflow.keras.models import Sequential\n",
    "from tensorflow.keras.regularizers import l2\n",
    "from tensorflow.keras.layers import Dense, Dropout, Flatten, Conv2D, MaxPooling2D\n",
    "from tensorflow.keras import utils\n",
    "from tensorflow.keras.applications import VGG16, ResNet50, ResNet101V2, InceptionV3\n",
    "import efficientnet.tfkeras as efn\n",
    "\n",
    "\n",
    "np.random.seed(6)"
   ]
  },
  {
   "cell_type": "markdown",
   "metadata": {},
   "source": [
    "### Loading in class names from Matlab files"
   ]
  },
  {
   "cell_type": "code",
   "execution_count": 3,
   "metadata": {},
   "outputs": [],
   "source": [
    "meta = scipy.io.loadmat('files/devkit/cars_meta.mat')\n",
    "train = scipy.io.loadmat('files/devkit/cars_train_annos.mat')\n",
    "test = scipy.io.loadmat('files/devkit/cars_test_annos.mat')"
   ]
  },
  {
   "cell_type": "code",
   "execution_count": 4,
   "metadata": {},
   "outputs": [],
   "source": [
    "classes = pd.DataFrame(meta['class_names'][0], columns=['title'])"
   ]
  },
  {
   "cell_type": "code",
   "execution_count": 5,
   "metadata": {},
   "outputs": [],
   "source": [
    "classes['title']\n",
    "classes_list = []\n",
    "for value in classes['title']:\n",
    "    value = value[0]\n",
    "    classes_list.append(value)\n",
    "    \n",
    "classes['title'] = classes_list"
   ]
  },
  {
   "cell_type": "code",
   "execution_count": 6,
   "metadata": {},
   "outputs": [
    {
     "data": {
      "text/plain": [
       "0            AM General Hummer SUV 2000\n",
       "1                   Acura RL Sedan 2012\n",
       "2                   Acura TL Sedan 2012\n",
       "3                  Acura TL Type-S 2008\n",
       "4                  Acura TSX Sedan 2012\n",
       "                     ...               \n",
       "191    Volkswagen Beetle Hatchback 2012\n",
       "192            Volvo C30 Hatchback 2012\n",
       "193                Volvo 240 Sedan 1993\n",
       "194                 Volvo XC90 SUV 2007\n",
       "195       smart fortwo Convertible 2012\n",
       "Name: title, Length: 196, dtype: object"
      ]
     },
     "execution_count": 6,
     "metadata": {},
     "output_type": "execute_result"
    }
   ],
   "source": [
    "classes['title']"
   ]
  },
  {
   "cell_type": "markdown",
   "metadata": {},
   "source": [
    "### Redefining classes from make, model and year to just make"
   ]
  },
  {
   "cell_type": "code",
   "execution_count": 7,
   "metadata": {},
   "outputs": [
    {
     "data": {
      "text/plain": [
       "0       AM\n",
       "1    Acura\n",
       "2    Acura\n",
       "3    Acura\n",
       "4    Acura\n",
       "Name: makes, dtype: object"
      ]
     },
     "execution_count": 7,
     "metadata": {},
     "output_type": "execute_result"
    }
   ],
   "source": [
    "makes = []\n",
    "for value in classes['title']:\n",
    "    value = value.split(' ')[0]\n",
    "    makes.append(value)\n",
    "    \n",
    "classes['makes'] = makes\n",
    "\n",
    "classes['makes'].head()"
   ]
  },
  {
   "cell_type": "markdown",
   "metadata": {},
   "source": [
    "### Grabbing image class labels and bounding boxes from Matlab files"
   ]
  },
  {
   "cell_type": "code",
   "execution_count": 8,
   "metadata": {},
   "outputs": [],
   "source": [
    "train_file_name_list = []\n",
    "train_image_bounds = []\n",
    "train_label_name_list = []\n",
    "bounds_box = []\n",
    "for i in range(train['annotations'].shape[1]):\n",
    "    train_file_name_list.append(train['annotations'][:,i][0][5][0])\n",
    "    train_label_name_list.append(train['annotations'][:,i][0][4][0][0])\n",
    "    train_bounds_list = []\n",
    "    image_bounds_list = []\n",
    "    for j in range(5):\n",
    "        train_bounds_list.append(train['annotations'][:,i][0][j][0][0])\n",
    "    train_image_bounds.append(train_bounds_list)     \n",
    "    for k in range(4):\n",
    "        image_bounds_list.append(train['annotations'][:,i][0][k][0][0])\n",
    "    bounds_box.append(image_bounds_list)   "
   ]
  },
  {
   "cell_type": "code",
   "execution_count": 9,
   "metadata": {},
   "outputs": [
    {
     "data": {
      "text/plain": [
       "[[39, 116, 569, 375],\n",
       " [36, 116, 868, 587],\n",
       " [85, 109, 601, 381],\n",
       " [621, 393, 1484, 1096],\n",
       " [14, 36, 133, 99]]"
      ]
     },
     "execution_count": 9,
     "metadata": {},
     "output_type": "execute_result"
    }
   ],
   "source": [
    "bounds_box[:5]"
   ]
  },
  {
   "cell_type": "code",
   "execution_count": 10,
   "metadata": {},
   "outputs": [],
   "source": [
    "test_file_name_list = []\n",
    "test_image_bounds = []\n",
    "for i in range(test['annotations'].shape[1]):\n",
    "    test_file_name_list.append(test['annotations'][:,i][0][4][0])\n",
    "    test_bounds_list = []\n",
    "    for j in range(4):\n",
    "        test_bounds_list.append(test['annotations'][:,i][0][j][0][0])\n",
    "    test_image_bounds.append(test_bounds_list)"
   ]
  },
  {
   "cell_type": "code",
   "execution_count": 11,
   "metadata": {},
   "outputs": [
    {
     "data": {
      "text/plain": [
       "[[30, 52, 246, 147],\n",
       " [100, 19, 576, 203],\n",
       " [51, 105, 968, 659],\n",
       " [67, 84, 581, 407],\n",
       " [140, 151, 593, 339]]"
      ]
     },
     "execution_count": 11,
     "metadata": {},
     "output_type": "execute_result"
    }
   ],
   "source": [
    "test_image_bounds[:5]"
   ]
  },
  {
   "cell_type": "code",
   "execution_count": 12,
   "metadata": {},
   "outputs": [
    {
     "data": {
      "text/html": [
       "<div>\n",
       "<style scoped>\n",
       "    .dataframe tbody tr th:only-of-type {\n",
       "        vertical-align: middle;\n",
       "    }\n",
       "\n",
       "    .dataframe tbody tr th {\n",
       "        vertical-align: top;\n",
       "    }\n",
       "\n",
       "    .dataframe thead th {\n",
       "        text-align: right;\n",
       "    }\n",
       "</style>\n",
       "<table border=\"1\" class=\"dataframe\">\n",
       "  <thead>\n",
       "    <tr style=\"text-align: right;\">\n",
       "      <th></th>\n",
       "      <th>X1</th>\n",
       "      <th>X2</th>\n",
       "      <th>Y1</th>\n",
       "      <th>Y2</th>\n",
       "      <th>label</th>\n",
       "    </tr>\n",
       "  </thead>\n",
       "  <tbody>\n",
       "    <tr>\n",
       "      <th>0</th>\n",
       "      <td>39</td>\n",
       "      <td>116</td>\n",
       "      <td>569</td>\n",
       "      <td>375</td>\n",
       "      <td>14</td>\n",
       "    </tr>\n",
       "    <tr>\n",
       "      <th>1</th>\n",
       "      <td>36</td>\n",
       "      <td>116</td>\n",
       "      <td>868</td>\n",
       "      <td>587</td>\n",
       "      <td>3</td>\n",
       "    </tr>\n",
       "    <tr>\n",
       "      <th>2</th>\n",
       "      <td>85</td>\n",
       "      <td>109</td>\n",
       "      <td>601</td>\n",
       "      <td>381</td>\n",
       "      <td>91</td>\n",
       "    </tr>\n",
       "    <tr>\n",
       "      <th>3</th>\n",
       "      <td>621</td>\n",
       "      <td>393</td>\n",
       "      <td>1484</td>\n",
       "      <td>1096</td>\n",
       "      <td>134</td>\n",
       "    </tr>\n",
       "    <tr>\n",
       "      <th>4</th>\n",
       "      <td>14</td>\n",
       "      <td>36</td>\n",
       "      <td>133</td>\n",
       "      <td>99</td>\n",
       "      <td>106</td>\n",
       "    </tr>\n",
       "  </tbody>\n",
       "</table>\n",
       "</div>"
      ],
      "text/plain": [
       "    X1   X2    Y1    Y2  label\n",
       "0   39  116   569   375     14\n",
       "1   36  116   868   587      3\n",
       "2   85  109   601   381     91\n",
       "3  621  393  1484  1096    134\n",
       "4   14   36   133    99    106"
      ]
     },
     "execution_count": 12,
     "metadata": {},
     "output_type": "execute_result"
    }
   ],
   "source": [
    "train_df_box = pd.DataFrame(train_image_bounds, columns=['X1', 'X2', 'Y1', 'Y2', 'label'])\n",
    "train_df_box.head()"
   ]
  },
  {
   "cell_type": "code",
   "execution_count": 13,
   "metadata": {},
   "outputs": [
    {
     "data": {
      "text/html": [
       "<div>\n",
       "<style scoped>\n",
       "    .dataframe tbody tr th:only-of-type {\n",
       "        vertical-align: middle;\n",
       "    }\n",
       "\n",
       "    .dataframe tbody tr th {\n",
       "        vertical-align: top;\n",
       "    }\n",
       "\n",
       "    .dataframe thead th {\n",
       "        text-align: right;\n",
       "    }\n",
       "</style>\n",
       "<table border=\"1\" class=\"dataframe\">\n",
       "  <thead>\n",
       "    <tr style=\"text-align: right;\">\n",
       "      <th></th>\n",
       "      <th>X1</th>\n",
       "      <th>X2</th>\n",
       "      <th>Y1</th>\n",
       "      <th>Y2</th>\n",
       "    </tr>\n",
       "  </thead>\n",
       "  <tbody>\n",
       "    <tr>\n",
       "      <th>0</th>\n",
       "      <td>30</td>\n",
       "      <td>52</td>\n",
       "      <td>246</td>\n",
       "      <td>147</td>\n",
       "    </tr>\n",
       "    <tr>\n",
       "      <th>1</th>\n",
       "      <td>100</td>\n",
       "      <td>19</td>\n",
       "      <td>576</td>\n",
       "      <td>203</td>\n",
       "    </tr>\n",
       "    <tr>\n",
       "      <th>2</th>\n",
       "      <td>51</td>\n",
       "      <td>105</td>\n",
       "      <td>968</td>\n",
       "      <td>659</td>\n",
       "    </tr>\n",
       "    <tr>\n",
       "      <th>3</th>\n",
       "      <td>67</td>\n",
       "      <td>84</td>\n",
       "      <td>581</td>\n",
       "      <td>407</td>\n",
       "    </tr>\n",
       "    <tr>\n",
       "      <th>4</th>\n",
       "      <td>140</td>\n",
       "      <td>151</td>\n",
       "      <td>593</td>\n",
       "      <td>339</td>\n",
       "    </tr>\n",
       "  </tbody>\n",
       "</table>\n",
       "</div>"
      ],
      "text/plain": [
       "    X1   X2   Y1   Y2\n",
       "0   30   52  246  147\n",
       "1  100   19  576  203\n",
       "2   51  105  968  659\n",
       "3   67   84  581  407\n",
       "4  140  151  593  339"
      ]
     },
     "execution_count": 13,
     "metadata": {},
     "output_type": "execute_result"
    }
   ],
   "source": [
    "test_df_box = pd.DataFrame(test_image_bounds, columns=['X1', 'X2', 'Y1', 'Y2'])\n",
    "test_df_box.head()"
   ]
  },
  {
   "cell_type": "markdown",
   "metadata": {},
   "source": [
    "### Creating Dataframe with file names and image class labels"
   ]
  },
  {
   "cell_type": "code",
   "execution_count": 14,
   "metadata": {},
   "outputs": [],
   "source": [
    "file_df = pd.DataFrame(train_file_name_list, train_df_box['label'], columns =['file'])"
   ]
  },
  {
   "cell_type": "code",
   "execution_count": 15,
   "metadata": {},
   "outputs": [],
   "source": [
    "file_df.reset_index(inplace=True)"
   ]
  },
  {
   "cell_type": "code",
   "execution_count": 16,
   "metadata": {},
   "outputs": [],
   "source": [
    "# redifining from 196 classes to 48 classes\n",
    "file_df['label'] = file_df['label'].map(classes['makes'])"
   ]
  },
  {
   "cell_type": "code",
   "execution_count": 17,
   "metadata": {},
   "outputs": [
    {
     "data": {
      "text/plain": [
       "40"
      ]
     },
     "execution_count": 17,
     "metadata": {},
     "output_type": "execute_result"
    }
   ],
   "source": [
    "file_df['label'].isnull().sum()"
   ]
  },
  {
   "cell_type": "code",
   "execution_count": 18,
   "metadata": {},
   "outputs": [],
   "source": [
    "file_df = file_df[file_df['label'].notnull()].copy()"
   ]
  },
  {
   "cell_type": "code",
   "execution_count": 19,
   "metadata": {},
   "outputs": [],
   "source": [
    "#create numerical value label for each car make\n",
    "file_df['label'] = pd.Categorical(file_df['label']).codes"
   ]
  },
  {
   "cell_type": "code",
   "execution_count": 20,
   "metadata": {},
   "outputs": [],
   "source": [
    "#make each label into a list of its own for the image data generator\n",
    "file_df['label'] = file_df['label'].apply(lambda x: str(x).split(' '))"
   ]
  },
  {
   "cell_type": "code",
   "execution_count": 21,
   "metadata": {},
   "outputs": [
    {
     "data": {
      "text/html": [
       "<div>\n",
       "<style scoped>\n",
       "    .dataframe tbody tr th:only-of-type {\n",
       "        vertical-align: middle;\n",
       "    }\n",
       "\n",
       "    .dataframe tbody tr th {\n",
       "        vertical-align: top;\n",
       "    }\n",
       "\n",
       "    .dataframe thead th {\n",
       "        text-align: right;\n",
       "    }\n",
       "</style>\n",
       "<table border=\"1\" class=\"dataframe\">\n",
       "  <thead>\n",
       "    <tr style=\"text-align: right;\">\n",
       "      <th></th>\n",
       "      <th>label</th>\n",
       "      <th>file</th>\n",
       "    </tr>\n",
       "  </thead>\n",
       "  <tbody>\n",
       "    <tr>\n",
       "      <th>0</th>\n",
       "      <td>[2]</td>\n",
       "      <td>00001.jpg</td>\n",
       "    </tr>\n",
       "    <tr>\n",
       "      <th>1</th>\n",
       "      <td>[0]</td>\n",
       "      <td>00002.jpg</td>\n",
       "    </tr>\n",
       "    <tr>\n",
       "      <th>2</th>\n",
       "      <td>[11]</td>\n",
       "      <td>00003.jpg</td>\n",
       "    </tr>\n",
       "    <tr>\n",
       "      <th>3</th>\n",
       "      <td>[21]</td>\n",
       "      <td>00004.jpg</td>\n",
       "    </tr>\n",
       "    <tr>\n",
       "      <th>4</th>\n",
       "      <td>[16]</td>\n",
       "      <td>00005.jpg</td>\n",
       "    </tr>\n",
       "    <tr>\n",
       "      <th>...</th>\n",
       "      <td>...</td>\n",
       "      <td>...</td>\n",
       "    </tr>\n",
       "    <tr>\n",
       "      <th>8138</th>\n",
       "      <td>[44]</td>\n",
       "      <td>08139.jpg</td>\n",
       "    </tr>\n",
       "    <tr>\n",
       "      <th>8139</th>\n",
       "      <td>[9]</td>\n",
       "      <td>08140.jpg</td>\n",
       "    </tr>\n",
       "    <tr>\n",
       "      <th>8141</th>\n",
       "      <td>[33]</td>\n",
       "      <td>08142.jpg</td>\n",
       "    </tr>\n",
       "    <tr>\n",
       "      <th>8142</th>\n",
       "      <td>[16]</td>\n",
       "      <td>08143.jpg</td>\n",
       "    </tr>\n",
       "    <tr>\n",
       "      <th>8143</th>\n",
       "      <td>[2]</td>\n",
       "      <td>08144.jpg</td>\n",
       "    </tr>\n",
       "  </tbody>\n",
       "</table>\n",
       "<p>8104 rows × 2 columns</p>\n",
       "</div>"
      ],
      "text/plain": [
       "     label       file\n",
       "0      [2]  00001.jpg\n",
       "1      [0]  00002.jpg\n",
       "2     [11]  00003.jpg\n",
       "3     [21]  00004.jpg\n",
       "4     [16]  00005.jpg\n",
       "...    ...        ...\n",
       "8138  [44]  08139.jpg\n",
       "8139   [9]  08140.jpg\n",
       "8141  [33]  08142.jpg\n",
       "8142  [16]  08143.jpg\n",
       "8143   [2]  08144.jpg\n",
       "\n",
       "[8104 rows x 2 columns]"
      ]
     },
     "execution_count": 21,
     "metadata": {},
     "output_type": "execute_result"
    }
   ],
   "source": [
    "file_df"
   ]
  },
  {
   "cell_type": "markdown",
   "metadata": {},
   "source": [
    "### Using Image Data Generator's flow from directory function to create training/validation images"
   ]
  },
  {
   "cell_type": "code",
   "execution_count": null,
   "metadata": {},
   "outputs": [],
   "source": [
    "# For ease of testing, I am utilizing only the labeled training dataset and splitting a \n",
    "# validation set from this in the image data generator"
   ]
  },
  {
   "cell_type": "code",
   "execution_count": 22,
   "metadata": {},
   "outputs": [],
   "source": [
    "# Scaling data by dividing by 255 (value range for pixels is 0-255), and splitting 20%\n",
    "# for testing set\n",
    "data_generator = ImageDataGenerator(rescale=1./255., validation_split=.2)"
   ]
  },
  {
   "cell_type": "code",
   "execution_count": 23,
   "metadata": {},
   "outputs": [
    {
     "name": "stdout",
     "output_type": "stream",
     "text": [
      "Found 6484 validated image filenames belonging to 48 classes.\n",
      "Found 1620 validated image filenames belonging to 48 classes.\n"
     ]
    }
   ],
   "source": [
    "# Augmenting images in the image data generator under the training dataset \n",
    "# to give model more training data\n",
    "\n",
    "train_generator = data_generator.flow_from_dataframe(\n",
    "    dataframe=file_df,\n",
    "    directory='files/cars_train/',\n",
    "    x_col='file',\n",
    "    y_col='label',\n",
    "    subset=\"training\",\n",
    "    seed=42,\n",
    "    shuffle=True,\n",
    "    rotation_range=180,\n",
    "    width_shift_range=0.3,\n",
    "    height_shift_range=0.3,\n",
    "    shear_range=0.3,\n",
    "    zoom_range=0.3,\n",
    "    horizontal_flip=True,\n",
    "    target_size=(224, 224),\n",
    "    batch_size=64,\n",
    "    class_mode=\"categorical\")\n",
    "\n",
    "# not augmenting testing data, just used to create more images for training\n",
    "test_generator = data_generator.flow_from_dataframe(\n",
    "    dataframe=file_df,\n",
    "    directory='files/cars_train/',\n",
    "    x_col='file',\n",
    "    y_col='label',\n",
    "    subset=\"validation\",\n",
    "    seed=42,\n",
    "    shuffle=False,\n",
    "    target_size=(224, 224),\n",
    "    batch_size=64,\n",
    "    class_mode=\"categorical\")"
   ]
  },
  {
   "cell_type": "code",
   "execution_count": 24,
   "metadata": {},
   "outputs": [
    {
     "data": {
      "text/plain": [
       "(224, 224, 3)"
      ]
     },
     "execution_count": 24,
     "metadata": {},
     "output_type": "execute_result"
    }
   ],
   "source": [
    "train_generator[0][0][0].shape"
   ]
  },
  {
   "cell_type": "markdown",
   "metadata": {},
   "source": [
    "# Building the Model"
   ]
  },
  {
   "cell_type": "markdown",
   "metadata": {},
   "source": [
    "### Encorporating a pretrained EfficientNetB0 into the beginning of my model"
   ]
  },
  {
   "cell_type": "code",
   "execution_count": 25,
   "metadata": {},
   "outputs": [
    {
     "name": "stdout",
     "output_type": "stream",
     "text": [
      "Downloading data from https://github.com/Callidior/keras-applications/releases/download/efficientnet/efficientnet-b0_weights_tf_dim_ordering_tf_kernels_autoaugment_notop.h5\n",
      "16809984/16804768 [==============================] - 17s 1us/step\n"
     ]
    }
   ],
   "source": [
    "efficient = efn.EfficientNetB0(weights='imagenet', include_top=False, \n",
    "                       input_shape=(224, 224, 3))\n",
    "\n",
    "for layer in efficient.layers[:]:\n",
    "    layer.trainable = False"
   ]
  },
  {
   "cell_type": "code",
   "execution_count": 26,
   "metadata": {},
   "outputs": [],
   "source": [
    "model = Sequential()\n",
    "\n",
    "model.add(efficient)\n",
    "\n",
    "#Input shape of following conv2D layer is output shape of EfficientNetB0 layer\n",
    "\n",
    "model.add(Conv2D(filters=1024,           \n",
    "                     kernel_size=(3, 3),\n",
    "                     activation='relu',     \n",
    "                     input_shape=(7, 7, 1280)))\n",
    "\n",
    "\n",
    "model.add(MaxPooling2D(pool_size=(2, 2)))\n",
    "\n",
    "model.add(Flatten())\n",
    "\n",
    "model.add(Dense(512, activation='relu'))\n",
    "\n",
    "model.add(Dense(512, activation='relu'))\n",
    "\n",
    "model.add(Dense(256, activation='relu'))\n",
    "\n",
    "model.add(Dense(128, activation='relu'))\n",
    "\n",
    "model.add(Dense(128, activation='relu'))\n",
    "\n",
    "model.add(Dense(48, activation='softmax'))\n",
    "\n",
    "optimizer = tf.keras.optimizers.Adam(learning_rate=.001)\n",
    "\n",
    "model.compile(loss='categorical_crossentropy', optimizer=optimizer, metrics=['accuracy'])"
   ]
  },
  {
   "cell_type": "markdown",
   "metadata": {},
   "source": [
    "### Model Summary showing 1 input model layer, 8 hidden layers, and 1 output layer"
   ]
  },
  {
   "cell_type": "code",
   "execution_count": 27,
   "metadata": {},
   "outputs": [
    {
     "name": "stdout",
     "output_type": "stream",
     "text": [
      "Model: \"sequential\"\n",
      "_________________________________________________________________\n",
      "Layer (type)                 Output Shape              Param #   \n",
      "=================================================================\n",
      "efficientnet-b0 (Functional) (None, 7, 7, 1280)        4049564   \n",
      "_________________________________________________________________\n",
      "conv2d (Conv2D)              (None, 5, 5, 1024)        11797504  \n",
      "_________________________________________________________________\n",
      "max_pooling2d (MaxPooling2D) (None, 2, 2, 1024)        0         \n",
      "_________________________________________________________________\n",
      "flatten (Flatten)            (None, 4096)              0         \n",
      "_________________________________________________________________\n",
      "dense (Dense)                (None, 512)               2097664   \n",
      "_________________________________________________________________\n",
      "dense_1 (Dense)              (None, 512)               262656    \n",
      "_________________________________________________________________\n",
      "dense_2 (Dense)              (None, 256)               131328    \n",
      "_________________________________________________________________\n",
      "dense_3 (Dense)              (None, 128)               32896     \n",
      "_________________________________________________________________\n",
      "dense_4 (Dense)              (None, 128)               16512     \n",
      "_________________________________________________________________\n",
      "dense_5 (Dense)              (None, 48)                6192      \n",
      "=================================================================\n",
      "Total params: 18,394,316\n",
      "Trainable params: 14,344,752\n",
      "Non-trainable params: 4,049,564\n",
      "_________________________________________________________________\n"
     ]
    }
   ],
   "source": [
    "model.summary()"
   ]
  },
  {
   "cell_type": "markdown",
   "metadata": {},
   "source": [
    "### Fitting the model for 25 epochs"
   ]
  },
  {
   "cell_type": "code",
   "execution_count": 28,
   "metadata": {},
   "outputs": [
    {
     "name": "stdout",
     "output_type": "stream",
     "text": [
      "Epoch 1/25\n",
      "102/102 [==============================] - 346s 3s/step - loss: 4.1481 - accuracy: 0.1027 - val_loss: 3.0338 - val_accuracy: 0.1852\n",
      "Epoch 2/25\n",
      "102/102 [==============================] - 2223s 22s/step - loss: 2.9163 - accuracy: 0.2049 - val_loss: 2.7301 - val_accuracy: 0.2463\n",
      "Epoch 3/25\n",
      "102/102 [==============================] - 1149s 4s/step - loss: 2.4558 - accuracy: 0.3016 - val_loss: 2.5328 - val_accuracy: 0.2944\n",
      "Epoch 4/25\n",
      "102/102 [==============================] - 357s 3s/step - loss: 2.0041 - accuracy: 0.4186 - val_loss: 2.4413 - val_accuracy: 0.3086\n",
      "Epoch 5/25\n",
      "102/102 [==============================] - 359s 4s/step - loss: 1.5667 - accuracy: 0.5295 - val_loss: 2.3628 - val_accuracy: 0.3704\n",
      "Epoch 6/25\n",
      "102/102 [==============================] - 348s 3s/step - loss: 1.1937 - accuracy: 0.6321 - val_loss: 2.5631 - val_accuracy: 0.3679\n",
      "Epoch 7/25\n",
      "102/102 [==============================] - 369s 4s/step - loss: 0.9356 - accuracy: 0.7122 - val_loss: 2.4399 - val_accuracy: 0.4012\n",
      "Epoch 8/25\n",
      "102/102 [==============================] - 365s 4s/step - loss: 0.7055 - accuracy: 0.7819 - val_loss: 2.7611 - val_accuracy: 0.4099\n",
      "Epoch 9/25\n",
      "102/102 [==============================] - 361s 4s/step - loss: 0.5944 - accuracy: 0.8232 - val_loss: 2.6531 - val_accuracy: 0.4235\n",
      "Epoch 10/25\n",
      "102/102 [==============================] - 361s 4s/step - loss: 0.4602 - accuracy: 0.8583 - val_loss: 2.9523 - val_accuracy: 0.4389\n",
      "Epoch 11/25\n",
      "102/102 [==============================] - 360s 4s/step - loss: 0.3912 - accuracy: 0.8723 - val_loss: 3.1983 - val_accuracy: 0.4019\n",
      "Epoch 12/25\n",
      "102/102 [==============================] - 358s 4s/step - loss: 0.3388 - accuracy: 0.9035 - val_loss: 3.0809 - val_accuracy: 0.4080\n",
      "Epoch 13/25\n",
      "102/102 [==============================] - 356s 3s/step - loss: 0.3419 - accuracy: 0.9048 - val_loss: 2.9223 - val_accuracy: 0.4451\n",
      "Epoch 14/25\n",
      "102/102 [==============================] - 363s 4s/step - loss: 0.2606 - accuracy: 0.9312 - val_loss: 3.1107 - val_accuracy: 0.4407\n",
      "Epoch 15/25\n",
      "102/102 [==============================] - 360s 4s/step - loss: 0.1838 - accuracy: 0.9460 - val_loss: 3.1750 - val_accuracy: 0.4265\n",
      "Epoch 16/25\n",
      "102/102 [==============================] - 366s 4s/step - loss: 0.2322 - accuracy: 0.9337 - val_loss: 3.1084 - val_accuracy: 0.4272\n",
      "Epoch 17/25\n",
      "102/102 [==============================] - 356s 3s/step - loss: 0.2174 - accuracy: 0.9456 - val_loss: 3.2741 - val_accuracy: 0.4296\n",
      "Epoch 18/25\n",
      "102/102 [==============================] - 360s 4s/step - loss: 0.1737 - accuracy: 0.9472 - val_loss: 3.4639 - val_accuracy: 0.4321\n",
      "Epoch 19/25\n",
      "102/102 [==============================] - 355s 3s/step - loss: 0.2066 - accuracy: 0.9434 - val_loss: 3.3618 - val_accuracy: 0.4420\n",
      "Epoch 20/25\n",
      "102/102 [==============================] - 352s 3s/step - loss: 0.1497 - accuracy: 0.9584 - val_loss: 3.2995 - val_accuracy: 0.4278\n",
      "Epoch 21/25\n",
      "102/102 [==============================] - 393s 4s/step - loss: 0.1505 - accuracy: 0.9510 - val_loss: 3.2500 - val_accuracy: 0.4457\n",
      "Epoch 22/25\n",
      "102/102 [==============================] - 374s 4s/step - loss: 0.1047 - accuracy: 0.9684 - val_loss: 3.2927 - val_accuracy: 0.4481\n",
      "Epoch 23/25\n",
      "102/102 [==============================] - 376s 4s/step - loss: 0.1207 - accuracy: 0.9622 - val_loss: 3.5947 - val_accuracy: 0.4333\n",
      "Epoch 24/25\n",
      "102/102 [==============================] - 371s 4s/step - loss: 0.1729 - accuracy: 0.9526 - val_loss: 3.4296 - val_accuracy: 0.4432\n",
      "Epoch 25/25\n",
      "102/102 [==============================] - 361s 4s/step - loss: 0.1482 - accuracy: 0.9552 - val_loss: 3.6143 - val_accuracy: 0.4346\n"
     ]
    }
   ],
   "source": [
    "history = model.fit(train_generator, validation_data=test_generator, epochs=25, verbose=1)"
   ]
  },
  {
   "cell_type": "markdown",
   "metadata": {},
   "source": [
    "### Plotting Loss and Accuracy for the model"
   ]
  },
  {
   "cell_type": "code",
   "execution_count": 29,
   "metadata": {},
   "outputs": [
    {
     "data": {
      "image/png": "[encoded data removed]",
      "text/plain": [
       "<Figure size 432x288 with 1 Axes>"
      ]
     },
     "metadata": {
      "needs_background": "light"
     },
     "output_type": "display_data"
    }
   ],
   "source": [
    "plt.plot(history.history['loss'], label='Train loss')\n",
    "plt.plot(history.history['val_loss'], label='Test loss')\n",
    "plt.xlabel('Epochs')\n",
    "plt.ylabel('Loss')\n",
    "plt.title('Loss over number of Epochs')\n",
    "plt.legend();"
   ]
  },
  {
   "cell_type": "code",
   "execution_count": 30,
   "metadata": {},
   "outputs": [
    {
     "data": {
      "image/png": "[encoded data removed]",
      "text/plain": [
       "<Figure size 432x288 with 1 Axes>"
      ]
     },
     "metadata": {
      "needs_background": "light"
     },
     "output_type": "display_data"
    }
   ],
   "source": [
    "plt.plot(history.history['accuracy'], label='Train accuracy')\n",
    "plt.plot(history.history['val_accuracy'], label='Test accuracy')\n",
    "plt.xlabel('Epochs')\n",
    "plt.ylabel('Accuracy')\n",
    "plt.title('Accuracy over number of Epochs')\n",
    "plt.legend();"
   ]
  },
  {
   "cell_type": "code",
   "execution_count": 32,
   "metadata": {},
   "outputs": [],
   "source": [
    "predictions = model.predict(test_generator)"
   ]
  },
  {
   "cell_type": "code",
   "execution_count": 33,
   "metadata": {},
   "outputs": [],
   "source": [
    "predicted_classes = np.argmax(predictions, axis=1)"
   ]
  },
  {
   "cell_type": "code",
   "execution_count": 34,
   "metadata": {},
   "outputs": [],
   "source": [
    "true_classes = test_generator.classes"
   ]
  },
  {
   "cell_type": "code",
   "execution_count": 35,
   "metadata": {},
   "outputs": [],
   "source": [
    "class_labels = list(test_generator.class_indices.keys()) "
   ]
  },
  {
   "cell_type": "code",
   "execution_count": 46,
   "metadata": {},
   "outputs": [
    {
     "data": {
      "text/plain": [
       "array([[ 19,   0,   0, ...,   0,   3,   0],\n",
       "       [  1,  12,   0, ...,   0,   0,   0],\n",
       "       [  0,   0,   2, ...,   0,   0,   2],\n",
       "       ...,\n",
       "       [  1,   0,   0, ...,   6,   0,   0],\n",
       "       [  4,   0,   0, ...,   3, 100,   7],\n",
       "       [  0,   2,   0, ...,   0,   9,  14]])"
      ]
     },
     "execution_count": 46,
     "metadata": {},
     "output_type": "execute_result"
    }
   ],
   "source": [
    "confusion_matrix(true_classes, predicted_classes)"
   ]
  }
 ],
 "metadata": {
  "kernelspec": {
   "display_name": "Python 3",
   "language": "python",
   "name": "python3"
  },
  "language_info": {
   "codemirror_mode": {
    "name": "ipython",
    "version": 3
   },
   "file_extension": ".py",
   "mimetype": "text/x-python",
   "name": "python",
   "nbconvert_exporter": "python",
   "pygments_lexer": "ipython3",
   "version": "3.8.5"
  }
 },
 "nbformat": 4,
 "nbformat_minor": 4
}
